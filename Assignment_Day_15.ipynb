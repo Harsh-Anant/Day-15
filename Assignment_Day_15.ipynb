{
 "cells": [
  {
   "cell_type": "markdown",
   "metadata": {},
   "source": [
    "# 1. Create a 3x3x3 array with random values "
   ]
  },
  {
   "cell_type": "code",
   "execution_count": 45,
   "metadata": {},
   "outputs": [
    {
     "name": "stdout",
     "output_type": "stream",
     "text": [
      "[[[9]\n",
      "  [8]\n",
      "  [8]]\n",
      "\n",
      " [[8]\n",
      "  [9]\n",
      "  [3]]\n",
      "\n",
      " [[5]\n",
      "  [8]\n",
      "  [9]]]\n"
     ]
    }
   ],
   "source": [
    "import numpy as np\n",
    "a=[[np.random.randint(3,10) for i in range(3)]for j in range(3)]\n",
    "a=np.array(a).reshape(3,3,1)\n",
    "print(a)"
   ]
  },
  {
   "cell_type": "markdown",
   "metadata": {},
   "source": [
    "# 2.Create a 5x5 matrix with values 1,2,3,4 just below the diagonal"
   ]
  },
  {
   "cell_type": "code",
   "execution_count": 2,
   "metadata": {},
   "outputs": [
    {
     "name": "stdout",
     "output_type": "stream",
     "text": [
      "[[0 0 0 0 0]\n",
      " [1 0 0 0 0]\n",
      " [0 2 0 0 0]\n",
      " [0 0 3 0 0]\n",
      " [0 0 0 4 0]]\n"
     ]
    }
   ],
   "source": [
    "arr=[[0 for i in range(5)]for j in range(5)]\n",
    "c=1\n",
    "for i in range(5):\n",
    "    for j in range(5):\n",
    "        if j==(i-1):\n",
    "            arr[i][j]=c\n",
    "            c+=1\n",
    "        if i==j:\n",
    "            break\n",
    "arr=np.array(arr)\n",
    "print(arr)"
   ]
  },
  {
   "cell_type": "markdown",
   "metadata": {},
   "source": [
    "# 3.Create a 8x8 matrix and fill it with a checkerboard pattern"
   ]
  },
  {
   "cell_type": "code",
   "execution_count": 3,
   "metadata": {},
   "outputs": [
    {
     "name": "stdout",
     "output_type": "stream",
     "text": [
      "[[0 1 0 1 0 1 0 1]\n",
      " [1 0 1 0 1 0 1 0]\n",
      " [0 1 0 1 0 1 0 1]\n",
      " [1 0 1 0 1 0 1 0]\n",
      " [0 1 0 1 0 1 0 1]\n",
      " [1 0 1 0 1 0 1 0]\n",
      " [0 1 0 1 0 1 0 1]\n",
      " [1 0 1 0 1 0 1 0]]\n"
     ]
    }
   ],
   "source": [
    "# 1-> white\n",
    "# 0-> black\n",
    "arr1=[[0 for i in range(8)]for j in range(8)]\n",
    "c=1\n",
    "for i in range(8):\n",
    "    for j in range(8):\n",
    "        if not(c)==False:\n",
    "            arr1[i][j]=0\n",
    "        else:\n",
    "            arr1[i][j]=1\n",
    "        c=not(c)\n",
    "    c=not(c)\n",
    "arr1=np.array(arr1)\n",
    "print(arr1)"
   ]
  },
  {
   "cell_type": "markdown",
   "metadata": {},
   "source": [
    "# 4. Normalize a 5x5 random matrix"
   ]
  },
  {
   "cell_type": "code",
   "execution_count": 4,
   "metadata": {},
   "outputs": [
    {
     "name": "stdout",
     "output_type": "stream",
     "text": [
      "[[13  7 12 14  8]\n",
      " [ 7  8 14 14 15]\n",
      " [ 8  3 12 18  6]\n",
      " [18  6 10 11 14]\n",
      " [19 17 13 11 10]] \n",
      "\n",
      "[[ 0.19786096 -0.60427807  0.06417112  0.3315508  -0.47058824]\n",
      " [-0.60427807 -0.47058824  0.3315508   0.3315508   0.46524064]\n",
      " [-0.47058824 -1.13903743  0.06417112  0.86631016 -0.73796791]\n",
      " [ 0.86631016 -0.73796791 -0.20320856 -0.06951872  0.3315508 ]\n",
      " [ 1.          0.73262032  0.19786096 -0.06951872 -0.20320856]]\n"
     ]
    }
   ],
   "source": [
    "a=[[0 for i in range(5)] for j in range(5)]\n",
    "for i in range(5):\n",
    "    for j in range(5):\n",
    "        a[i][j]=np.random.randint(3,20)\n",
    "a=np.array(a)\n",
    "print(a,\"\\n\")\n",
    "a=a-a.mean()\n",
    "a=a/a.max()\n",
    "print(a)"
   ]
  },
  {
   "cell_type": "markdown",
   "metadata": {},
   "source": [
    "# 5.  How to find common values between two arrays?"
   ]
  },
  {
   "cell_type": "code",
   "execution_count": 5,
   "metadata": {},
   "outputs": [
    {
     "name": "stdout",
     "output_type": "stream",
     "text": [
      "1 46 78 9\n",
      "78 5 9\n",
      "[ 1 46 78  9]\n",
      "[78  5  9]\n",
      "Common values are:\n",
      "78\n",
      "9\n"
     ]
    }
   ],
   "source": [
    "arr=np.array(list(map(int,input().split())))\n",
    "arr1=np.array(list(map(int,input().split())))\n",
    "print(arr)\n",
    "print(arr1)\n",
    "print(\"Common values are:\")\n",
    "for i in arr:\n",
    "    if i in arr1:\n",
    "        print(i)\n",
    "    "
   ]
  },
  {
   "cell_type": "markdown",
   "metadata": {},
   "source": [
    "# 6.How to get the dates of yesterday, today and tomorrow?"
   ]
  },
  {
   "cell_type": "code",
   "execution_count": 6,
   "metadata": {},
   "outputs": [
    {
     "name": "stdout",
     "output_type": "stream",
     "text": [
      "Yesterday: 2020-07-27 \n",
      " Today: 2020-07-28 \n",
      " Tomorrow: 2020-07-29\n"
     ]
    }
   ],
   "source": [
    "yesterday=np.datetime64('today','D')-np.timedelta64(1,'D')\n",
    "today=np.datetime64('today','D')\n",
    "tomorrow=np.datetime64('today','D')+np.timedelta64(1,'D')\n",
    "print(\"Yesterday:\",yesterday,\"\\n\",\"Today:\",today,\"\\n\",\"Tomorrow:\",tomorrow)"
   ]
  },
  {
   "cell_type": "markdown",
   "metadata": {},
   "source": [
    "# 7. Consider two random array A and B, check if they are equal"
   ]
  },
  {
   "cell_type": "code",
   "execution_count": 7,
   "metadata": {},
   "outputs": [
    {
     "name": "stdout",
     "output_type": "stream",
     "text": [
      "4 0 1 5 6\n",
      "4 0 1 5 6\n",
      "[4 0 1 5 6]\n",
      "[4 0 1 5 6]\n",
      "True\n"
     ]
    }
   ],
   "source": [
    "A=list(map(int,input().split()))\n",
    "A=np.array(A)\n",
    "B=list(map(int,input().split()))\n",
    "B=np.array(B)\n",
    "print(A)\n",
    "print(B)\n",
    "equal=np.allclose(A,B)\n",
    "print(equal)"
   ]
  },
  {
   "cell_type": "markdown",
   "metadata": {},
   "source": [
    "# 8.Create random vector of size 10 and replace the maximum value by 0 "
   ]
  },
  {
   "cell_type": "code",
   "execution_count": 8,
   "metadata": {},
   "outputs": [
    {
     "name": "stdout",
     "output_type": "stream",
     "text": [
      "[10 19 18  9 18 10 16 12 19 16]\n",
      "\n",
      "After replacing maximum values with 0 we get:\n",
      "\n",
      " [10  0 18  9 18 10 16 12  0 16]\n"
     ]
    }
   ],
   "source": [
    "v=np.random.randint(2,20,10)\n",
    "print(v)\n",
    "a=v.max()\n",
    "for i in range(10):\n",
    "    if v[i]==a:\n",
    "        v[i]=0\n",
    "print(\"\\nAfter replacing maximum values with 0 we get:\\n\\n\",v)"
   ]
  },
  {
   "cell_type": "markdown",
   "metadata": {},
   "source": [
    "# 9. How to print all the values of an array?"
   ]
  },
  {
   "cell_type": "code",
   "execution_count": 9,
   "metadata": {},
   "outputs": [
    {
     "name": "stdout",
     "output_type": "stream",
     "text": [
      "For 1D\n",
      "[1 2 3 4 5 6]\n",
      "1\n",
      "2\n",
      "3\n",
      "4\n",
      "5\n",
      "6\n",
      "\n",
      "For 2D\n",
      "[[1]\n",
      " [2]\n",
      " [3]\n",
      " [4]\n",
      " [5]\n",
      " [6]]\n",
      "1\n",
      "2\n",
      "3\n",
      "4\n",
      "5\n",
      "6\n",
      "\n",
      "For 3D\n",
      "[[[1]\n",
      "  [2]\n",
      "  [3]]\n",
      "\n",
      " [[4]\n",
      "  [5]\n",
      "  [6]]]\n",
      "1\n",
      "2\n",
      "3\n",
      "4\n",
      "5\n",
      "6\n"
     ]
    }
   ],
   "source": [
    "# For 1d\n",
    "print(\"For 1D\")\n",
    "arr=np.array([1,2,3,4,5,6])\n",
    "print(arr)\n",
    "for i in arr:\n",
    "    print(i)\n",
    "# For 2d\n",
    "print(\"\\nFor 2D\")\n",
    "arr1=arr.reshape(6,1)\n",
    "print(arr1)\n",
    "for i in range(6):\n",
    "    for j in range(1):\n",
    "        print(arr1[i][j])\n",
    "arr2=arr1.reshape(2,3,1)\n",
    "# For 3d\n",
    "print(\"\\nFor 3D\")\n",
    "print(arr2)\n",
    "for i in range(2):\n",
    "    for j in range(3):\n",
    "        for k in range(1):\n",
    "            print(arr2[i][j][k])"
   ]
  },
  {
   "cell_type": "markdown",
   "metadata": {},
   "source": [
    "# 10.Subtract the mean of each row of a matrix"
   ]
  },
  {
   "cell_type": "code",
   "execution_count": 10,
   "metadata": {},
   "outputs": [
    {
     "name": "stdout",
     "output_type": "stream",
     "text": [
      "[[ 0.1992141   0.27904934  0.70285084  0.46818148  0.7149341 ]\n",
      " [ 0.28992466  0.58106361  0.95232314  0.37210543  0.96855782]\n",
      " [ 0.85129496  0.76681086  0.9145375   0.85445713  0.98452455]\n",
      " [ 0.70663337  0.62286683  0.98831563  0.31579414  0.62873401]\n",
      " [ 0.15706251  0.60916743  0.67789865  0.66571451  0.45573222]]\n",
      "[[ 0.47284597]\n",
      " [ 0.63279493]\n",
      " [ 0.874325  ]\n",
      " [ 0.65246879]\n",
      " [ 0.51311506]]\n",
      "\n",
      "After subtracting the mean of each row of a matrix:\n",
      "\n",
      " [[-0.27363187 -0.19379664  0.23000487 -0.00466449  0.24208813]\n",
      " [-0.34287027 -0.05173132  0.31952821 -0.2606895   0.33576289]\n",
      " [-0.02303004 -0.10751414  0.0402125  -0.01986787  0.11019955]\n",
      " [ 0.05416457 -0.02960197  0.33584684 -0.33667466 -0.02373478]\n",
      " [-0.35605255  0.09605237  0.16478358  0.15259944 -0.05738284]]\n"
     ]
    }
   ],
   "source": [
    "arr=np.random.rand(5,5)\n",
    "print(arr)\n",
    "print(arr.mean(axis=1,keepdims=True))\n",
    "arr=arr-arr.mean(axis=1,keepdims=True)\n",
    "print(\"\\nAfter subtracting the mean of each row of a matrix:\\n\\n\",arr)"
   ]
  },
  {
   "cell_type": "markdown",
   "metadata": {},
   "source": [
    "# 11.Consider a given vector, how to add 1 to each element indexed by a second vector (be careful with repeated indices)? "
   ]
  },
  {
   "cell_type": "code",
   "execution_count": 27,
   "metadata": {},
   "outputs": [
    {
     "name": "stdout",
     "output_type": "stream",
     "text": [
      "[18 12 10 17 13 14] \n",
      "\n",
      "Second vector for indexes:  [1 3 4] \n",
      "\n",
      "[18 13 10 18 14 14]\n"
     ]
    }
   ],
   "source": [
    "arr1=np.random.randint(10,20,6)\n",
    "print(arr1,\"\\n\")\n",
    "arr=[1,4,4,3]\n",
    "arr=list(dict.fromkeys(arr))\n",
    "arr=np.array(arr)\n",
    "print(\"Second vector for indexes: \",arr,\"\\n\")\n",
    "for i in arr:\n",
    "    arr1[i]+=1\n",
    "print(arr1)\n",
    "\n"
   ]
  },
  {
   "cell_type": "markdown",
   "metadata": {},
   "source": [
    "# 12.How to get the diagonal of a dot product?"
   ]
  },
  {
   "cell_type": "code",
   "execution_count": 41,
   "metadata": {},
   "outputs": [
    {
     "name": "stdout",
     "output_type": "stream",
     "text": [
      "[[ 84  90  96]\n",
      " [201 216 231]\n",
      " [318 342 366]] \n",
      "\n",
      "\n",
      " Diagonal of the dot product is: \n",
      "\n",
      "84     \n",
      "\n",
      "  216   \n",
      "\n",
      "    366 \n",
      "\n"
     ]
    }
   ],
   "source": [
    "A=np.array([[1,2,3],[4,5,6],[7,8,9]])\n",
    "B=np.array([[10,11,12],[13,14,15],[16,17,18]])\n",
    "C=np.dot(A,B)\n",
    "print(C,\"\\n\")\n",
    "print(\"\\n Diagonal of the dot product is: \\n\")\n",
    "for i in range(3):\n",
    "    for j in range(3):\n",
    "        if i==j:\n",
    "            print(C[i][j],end=\" \")\n",
    "        else:\n",
    "            print(\" \",end=\" \")\n",
    "    print(\"\\n\")"
   ]
  },
  {
   "cell_type": "markdown",
   "metadata": {},
   "source": [
    "# 13.How to find the most frequent value in an array?"
   ]
  },
  {
   "cell_type": "code",
   "execution_count": 11,
   "metadata": {},
   "outputs": [
    {
     "name": "stdout",
     "output_type": "stream",
     "text": [
      "1 4 4 7 6 5 5 4 4 4 \n",
      "[1 4 4 7 6 5 5 4 4 4]\n",
      "Most frequent value is:  4\n"
     ]
    }
   ],
   "source": [
    "from collections import defaultdict\n",
    "d=defaultdict(lambda:0)\n",
    "A=list(map(int,input().split()))\n",
    "A=np.array(A)\n",
    "print(A)\n",
    "for i in A:\n",
    "    d[i]+=1\n",
    "max1=d[i]\n",
    "value=i\n",
    "for i,j in d.items():\n",
    "    if j>max1:\n",
    "        max1=j\n",
    "        value=i\n",
    "\n",
    "print(\"Most frequent value is: \",value)\n",
    "    "
   ]
  },
  {
   "cell_type": "markdown",
   "metadata": {},
   "source": [
    "# 14.How to get the n largest values of an array"
   ]
  },
  {
   "cell_type": "code",
   "execution_count": 12,
   "metadata": {},
   "outputs": [
    {
     "name": "stdout",
     "output_type": "stream",
     "text": [
      "Enter the value of n: 4\n",
      "34 6 89 57 60 7 12 35 67\n",
      "[34  6 89 57 60  7 12 35 67]\n",
      "89\n",
      "67\n",
      "60\n",
      "57\n"
     ]
    }
   ],
   "source": [
    "n=int(input(\"Enter the value of n: \"))\n",
    "A=np.array(list(map(int,input().split())))\n",
    "print(A)\n",
    "A=sorted(A)\n",
    "A=A[::-1]\n",
    "\n",
    "for i in range(n):\n",
    "    print(A[i])\n",
    "    "
   ]
  },
  {
   "cell_type": "markdown",
   "metadata": {},
   "source": [
    "# 15.How to create a record array from a regular array?"
   ]
  },
  {
   "cell_type": "code",
   "execution_count": 20,
   "metadata": {},
   "outputs": [
    {
     "name": "stdout",
     "output_type": "stream",
     "text": [
      "Original array:\n",
      "\n",
      " [['Tony' '1' '2.3']\n",
      " ['Steve' '2' '2.3']] \n",
      "\n",
      "Recorded array:\n",
      "\n",
      " [(b'Tony', 1,  2.3) (b'Steve', 2,  2.3)]\n"
     ]
    }
   ],
   "source": [
    "arr1=np.array([(\"Tony\",1,2.3),(\"Steve\",2,2.3)])\n",
    "print(\"Original array:\\n\\n\",arr1,\"\\n\")\n",
    "rec=np.core.records.fromarrays(arr1.T,names='col1,col2',formats='S80,i8,f8')\n",
    "print(\"Recorded array:\\n\\n\",rec)"
   ]
  }
 ],
 "metadata": {
  "kernelspec": {
   "display_name": "Python 3",
   "language": "python",
   "name": "python3"
  },
  "language_info": {
   "codemirror_mode": {
    "name": "ipython",
    "version": 3
   },
   "file_extension": ".py",
   "mimetype": "text/x-python",
   "name": "python",
   "nbconvert_exporter": "python",
   "pygments_lexer": "ipython3",
   "version": "3.5.6"
  }
 },
 "nbformat": 4,
 "nbformat_minor": 2
}
